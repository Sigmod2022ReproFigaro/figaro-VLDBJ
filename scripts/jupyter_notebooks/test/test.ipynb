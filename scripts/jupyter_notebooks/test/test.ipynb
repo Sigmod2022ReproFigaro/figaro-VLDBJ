{
 "cells": [
  {
   "cell_type": "code",
   "execution_count": 31,
   "metadata": {},
   "outputs": [
    {
     "name": "stdout",
     "output_type": "stream",
     "text": [
      "[[ 1.62434536 -0.61175641]\n",
      " [-0.52817175 -1.07296862]\n",
      " [ 0.86540763 -2.3015387 ]\n",
      " [ 1.74481176 -0.7612069 ]]\n",
      "U [[-0.47018853  0.43417392 -0.37323927 -0.67164589]\n",
      " [-0.1328186  -0.61343304 -0.76862834  0.12357022]\n",
      " [-0.6942869  -0.50223671  0.50190544 -0.11753687]\n",
      " [-0.52843889  0.42772795 -0.13414118  0.72097662]]\n",
      "V [[-0.67384939  0.73886873]\n",
      " [ 0.73886873  0.67384939]]\n",
      "Sigma[3.2892589  1.81481721]\n",
      "j 1 v [ 0.67385025 -0.73886795] sigma 3.2892588995030305 u [0.47018881 0.1328182  0.69428658 0.52843916]\n",
      "j 2 v [-0.73886795 -0.67385025] sigma 1.8148172091994406 u [-0.43417293  0.61343332  0.50223816 -0.42772684]\n"
     ]
    }
   ],
   "source": [
    "import numpy as np\n",
    "np.random.seed(1)\n",
    "A = np.random.randn(4, 2)\n",
    "print(A)\n",
    "\n",
    "\n",
    "def powerIter(T):\n",
    "    n = T.shape[1]\n",
    "    v = np.random.randn(n)\n",
    "    v = v / np.linalg.norm(v)\n",
    "    for k in range(10):\n",
    "        w = np.dot(T, v)\n",
    "        v = w / np.linalg.norm(w)\n",
    "    sigma = np.dot(v.transpose(), np.dot(T, v))\n",
    "    sigma = np.sqrt(sigma)\n",
    "    return v, sigma\n",
    "\n",
    "def svdPowerIter(A):\n",
    "    n = A.shape[1]\n",
    "    B = np.copy(A)\n",
    "    for j in range(1, n+1):\n",
    "        T = np.matmul(A.transpose(), A)\n",
    "        v, sigma = powerIter(T)\n",
    "        u =  np.dot(A, v) / sigma\n",
    "        A = A -  sigma * np.outer(u, v)\n",
    "        print(\"j {} v {} sigma {} u {}\".format(j, v, sigma, u))\n",
    "        \n",
    "\n",
    "#T = np.matmul(A.transpose(), A)\n",
    "#print(T)\n",
    "#v, sigma = powerIter(T)\n",
    "#u =  np.dot(A, v) / sigma\n",
    "#print(\"v {} sigma {} u {}\".format(v, sigma, u))\n",
    "\n",
    "U, Sigma, V = np.linalg.svd(A)\n",
    "print(\"U {}\".format(U))\n",
    "print(\"V {}\".format(V))\n",
    "print(\"Sigma{}\".format(Sigma))\n",
    "\n",
    "svdPowerIter(A)"
   ]
  }
 ],
 "metadata": {
  "kernelspec": {
   "display_name": "Python 3.7.3 ('run-env-mkl': venv)",
   "language": "python",
   "name": "python3"
  },
  "language_info": {
   "codemirror_mode": {
    "name": "ipython",
    "version": 3
   },
   "file_extension": ".py",
   "mimetype": "text/x-python",
   "name": "python",
   "nbconvert_exporter": "python",
   "pygments_lexer": "ipython3",
   "version": "3.7.3"
  },
  "orig_nbformat": 4,
  "vscode": {
   "interpreter": {
    "hash": "04f741ea30c2e01f6ca82569db187dc2748344ef3279f5f04be12041af38059b"
   }
  }
 },
 "nbformat": 4,
 "nbformat_minor": 2
}
