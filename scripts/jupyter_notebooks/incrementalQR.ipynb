{
 "cells": [
  {
   "cell_type": "code",
   "execution_count": 2,
   "metadata": {},
   "outputs": [
    {
     "name": "stdout",
     "output_type": "stream",
     "text": [
      "[[ 1.62434536 -0.61175641 -0.52817175]\n",
      " [-1.07296862  0.86540763 -2.3015387 ]\n",
      " [ 1.74481176 -0.7612069   0.3190391 ]\n",
      " [-0.24937038  1.46210794 -2.06014071]]\n",
      "U [[-0.17330388  0.72332071  0.26166214  0.61506572]\n",
      " [ 0.6804161   0.15967861  0.65954611 -0.27665068]\n",
      " [-0.3691172   0.56196726 -0.06456915 -0.73741177]\n",
      " [ 0.60889423  0.36810689 -0.7016856   0.0371813 ]]\n",
      "V [[-0.46899222  0.48421055 -0.73863823]\n",
      " [ 0.81556069 -0.08355492 -0.57260749]\n",
      " [-0.33897945 -0.87095276 -0.35571649]]\n",
      "Sigma[3.85390339 2.32027447 0.64996275]\n",
      "j 1 v [ 0.46895999 -0.48420725  0.73866086] sigma 3.8539033867443577 u [ 0.17328667 -0.6804199   0.36910383 -0.60890299]\n",
      "j 2 v [-0.81557922  0.08357405  0.57257831] sigma 2.3202744689687114 u [-0.72333208 -0.15963397 -0.56199148 -0.36806694]\n",
      "j 3 v [0.33897945 0.87095276 0.35571649] sigma 0.6499627501147641 u [-0.26166214 -0.65954611  0.06456915  0.7016856 ]\n",
      "[[ 0.03003423  0.49215906 -0.096584    0.37450997]\n",
      " [ 0.49215906  0.02549726  0.37064332 -0.10183702]\n",
      " [-0.096584    0.37064332  0.00416918  0.51743122]\n",
      " [ 0.37450997 -0.10183702  0.51743122  0.00138245]]\n"
     ]
    }
   ],
   "source": [
    "import numpy as np\n",
    "np.random.seed(1)\n",
    "A = np.random.randn(4, 3)\n",
    "print(A)\n",
    "\n",
    "\n",
    "def powerIter(T):\n",
    "    n = T.shape[1]\n",
    "    v = np.random.randn(n)\n",
    "    v = v / np.linalg.norm(v)\n",
    "    for k in range(10):\n",
    "        w = np.dot(T, v)\n",
    "        v = w / np.linalg.norm(w)\n",
    "    sigma = np.dot(v.transpose(), np.dot(T, v))\n",
    "    sigma = np.sqrt(sigma)\n",
    "    return v, sigma\n",
    "\n",
    "def svdPowerIter(A):\n",
    "    B = np.copy(A)\n",
    "    n = B.shape[1]\n",
    "    for j in range(1, n+1):\n",
    "        T = np.matmul(B.transpose(), B)\n",
    "        v, sigma = powerIter(T)\n",
    "        u =  np.dot(B, v) / sigma\n",
    "        B = B -  sigma * np.outer(u, v)\n",
    "        print(\"j {} v {} sigma {} u {}\".format(j, v, sigma, u))\n",
    "\n",
    "    print(np.matmul(U.transpose(), U))\n",
    "\n",
    "def svdPowerIter2(A):\n",
    "    n = A.shape[1]\n",
    "    B = np.copy(A)\n",
    "    P = np.matmul(A.transpose(), A)\n",
    "    vList = [None] * n\n",
    "    sigmaList = [None] * n\n",
    "    uList = [None] * n\n",
    "    for j in range(0, n):\n",
    "        #T = P \n",
    "        lSum = np.zeros((n, n))\n",
    "        for i in range(0, j):\n",
    "            lSum += np.outer(vList[i], vList[i])\n",
    "        print(lSum)\n",
    "        lSum = np.eye(n) - lSum\n",
    "        T = lSum @ P @ lSum \n",
    "        print(\"T {}\".format(T))\n",
    "        vList[j], sigmaList[j] = powerIter(T)\n",
    "        uList[j] =  np.dot(A, vList[j]) / sigmaList[j]\n",
    "        print(\"j {} v {} sigma {} u {}\".format(j, vList[j], sigmaList[j], uList[j]))\n",
    "\n",
    "#T = np.matmul(A.transpose(), A)\n",
    "#print(T)\n",
    "#v, sigma = powerIter(T)\n",
    "#u =  np.dot(A, v) / sigma\n",
    "#print(\"v {} sigma {} u {}\".format(v, sigma, u))\n",
    "\n",
    "U, Sigma, V = np.linalg.svd(A)\n",
    "print(\"U {}\".format(U))\n",
    "print(\"V {}\".format(V))\n",
    "print(\"Sigma{}\".format(Sigma))\n",
    "\n",
    "svdPowerIter(A)\n",
    "#svdPowerIter2(A)"
   ]
  }
 ],
 "metadata": {
  "kernelspec": {
   "display_name": "Python 3.7.3 ('run-env-mkl': venv)",
   "language": "python",
   "name": "python3"
  },
  "language_info": {
   "codemirror_mode": {
    "name": "ipython",
    "version": 3
   },
   "file_extension": ".py",
   "mimetype": "text/x-python",
   "name": "python",
   "nbconvert_exporter": "python",
   "pygments_lexer": "ipython3",
   "version": "3.7.3"
  },
  "orig_nbformat": 4,
  "vscode": {
   "interpreter": {
    "hash": "04f741ea30c2e01f6ca82569db187dc2748344ef3279f5f04be12041af38059b"
   }
  }
 },
 "nbformat": 4,
 "nbformat_minor": 2
}
