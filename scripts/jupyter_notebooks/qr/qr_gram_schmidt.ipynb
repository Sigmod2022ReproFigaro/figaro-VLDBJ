{
 "cells": [
  {
   "cell_type": "code",
   "execution_count": 6,
   "metadata": {},
   "outputs": [
    {
     "name": "stdout",
     "output_type": "stream",
     "text": [
      "A [[ 1.62434536 -0.61175641 -0.52817175]\n",
      " [-1.07296862  0.86540763 -2.3015387 ]\n",
      " [ 1.74481176 -0.7612069   0.3190391 ]\n",
      " [-0.24937038  1.46210794 -2.06014071]]\n",
      "Q [[-0.61854298 -0.17187122  0.45777617]\n",
      " [ 0.40858134 -0.21721173  0.84222607]\n",
      " [-0.66441602 -0.10999556  0.05173219]\n",
      " [ 0.09495905 -0.95455766 -0.28003573]]\n",
      "R [[-2.62608324  1.37658549 -1.02127254]\n",
      " [ 0.         -1.39477031  2.52212894]\n",
      " [ 0.          0.         -1.58678274]]\n",
      "Q [[ 0.61854298  0.17187122 -0.45777617]\n",
      " [-0.40858134  0.21721173 -0.84222607]\n",
      " [ 0.66441602  0.10999556 -0.05173219]\n",
      " [-0.09495905  0.95455766  0.28003573]]\n",
      "R [[ 2.62608324 -1.37658549  1.02127254]\n",
      " [ 0.          1.39477031 -2.52212894]\n",
      " [ 0.          0.          1.58678274]]\n"
     ]
    }
   ],
   "source": [
    "import numpy as np\n",
    "np.random.seed(1)\n",
    "M = 4\n",
    "N = 3 \n",
    "A = np.random.randn(M, N)\n",
    "print(\"A {}\".format(A))\n",
    "\n",
    "\n",
    "def qrGramSchmidt(A):\n",
    "    n = A.shape[1]\n",
    "    m = A.shape[0]\n",
    "    R = np.zeros((n, n))\n",
    "    Q = np.zeros((m, n))\n",
    "\n",
    "    for j in range(0, n):\n",
    "        u = A[:, j]\n",
    "        for k in range(0, j):\n",
    "            u = u - np.dot(Q[:, k], A[:, j]) * Q[:, k]\n",
    "        Q[:, j] = u  / np.linalg.norm(u)\n",
    "        for i in range(0, j+1):\n",
    "            R[i, j] = np.dot(A[:, j], Q[:, i])\n",
    "\n",
    "    return Q, R\n",
    "\n",
    "\n",
    "#T = np.matmul(A.transpose(), A)\n",
    "#print(T)\n",
    "#v, sigma = powerIter(T)\n",
    "#u =  np.dot(A, v) / sigma\n",
    "#print(\"v {} sigma {} u {}\".format(v, sigma, u))\n",
    "\n",
    "Q, R = np.linalg.qr(A)\n",
    "print(\"Q {}\".format(Q))\n",
    "print(\"R {}\".format(R))\n",
    "\n",
    "#svdPowerIter(A)\n",
    "Q, R = qrGramSchmidt(A)\n",
    "print(\"Q {}\".format(Q))\n",
    "print(\"R {}\".format(R))"
   ]
  }
 ],
 "metadata": {
  "kernelspec": {
   "display_name": "Python 3.7.3 ('run-env-mkl': venv)",
   "language": "python",
   "name": "python3"
  },
  "language_info": {
   "codemirror_mode": {
    "name": "ipython",
    "version": 3
   },
   "file_extension": ".py",
   "mimetype": "text/x-python",
   "name": "python",
   "nbconvert_exporter": "python",
   "pygments_lexer": "ipython3",
   "version": "3.7.3"
  },
  "orig_nbformat": 4,
  "vscode": {
   "interpreter": {
    "hash": "04f741ea30c2e01f6ca82569db187dc2748344ef3279f5f04be12041af38059b"
   }
  }
 },
 "nbformat": 4,
 "nbformat_minor": 2
}
