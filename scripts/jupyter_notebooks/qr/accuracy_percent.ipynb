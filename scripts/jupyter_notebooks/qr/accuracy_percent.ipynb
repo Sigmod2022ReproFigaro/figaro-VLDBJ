{
 "cells": [
  {
   "cell_type": "code",
   "execution_count": null,
   "metadata": {},
   "outputs": [],
   "source": []
  },
  {
   "cell_type": "code",
   "execution_count": 64,
   "metadata": {},
   "outputs": [
    {
     "name": "stdout",
     "output_type": "stream",
     "text": [
      "{'mkl':                     10           20           30           40           50   \\\n",
      "DBRetailer  2.97144e-13   3.3432e-13  3.83568e-13  4.42169e-13  4.39209e-13   \n",
      "DBFavorita   6.2141e-13   1.5467e-12  1.46725e-12  2.70339e-12  2.42678e-12   \n",
      "DBYelp      4.25477e-14  2.09549e-14  1.43891e-13  1.16351e-13  1.59096e-13   \n",
      "\n",
      "                    60           70           80           90           100  \n",
      "DBRetailer  4.77733e-13  4.85723e-13  6.23753e-13  8.88818e-13   5.4906e-13  \n",
      "DBFavorita  7.00115e-12  2.71555e-12  2.03773e-12  2.69783e-12  4.22868e-12  \n",
      "DBYelp       7.8202e-14  1.68611e-13  1.96813e-13  3.88546e-13  1.17023e-13  , 'figaro_lapack':                     10           20           30           40           50   \\\n",
      "DBRetailer  2.83811e-11  1.60434e-11   2.5559e-11  1.23884e-11  1.02499e-11   \n",
      "DBFavorita  8.03562e-13  4.89301e-13  6.75283e-13   6.7719e-13  7.42535e-13   \n",
      "DBYelp      6.69362e-08  3.15129e-08  6.63393e-08  3.66203e-08  6.09299e-08   \n",
      "\n",
      "                    60           70           80           90           100  \n",
      "DBRetailer  3.32672e-12  1.10897e-11  1.25279e-11  8.02864e-12  1.87089e-11  \n",
      "DBFavorita  6.96239e-13  5.95331e-13   9.9873e-13  6.32204e-13  6.44233e-13  \n",
      "DBYelp      7.06368e-09  5.45124e-08  3.12239e-08  1.85825e-08   1.1404e-07  }\n"
     ]
    }
   ],
   "source": [
    "\"\"\"\"\n",
    "Figaro times collection times script. \n",
    "\"\"\"\n",
    "import numpy as np\n",
    "import pandas as pd\n",
    "import os\n",
    "import regex as re\n",
    "from openpyxl import load_workbook, Workbook\n",
    "from openpyxl.utils.cell import get_column_letter\n",
    "\n",
    "path_src = \"/local/scratch/Figaro/tests_path/figaro-code\"\n",
    "exp_names = [\"mkl\", \"figaro_lapack\"]\n",
    "exp_paths = {\"figaro_lapack\": \"logs/figaro/svd/lapack/thread48\", \"mkl\": \"logs/decomp_alg/jacobi/col_major/u_and_s_and_v\"}\n",
    "figaro_impls = [\"figaro_lapack\"]\n",
    "figaro_impls_full_name = {\"figaro_lapack\": \"C++-figaro_lapack\"}\n",
    "db_names = [\"DBRetailer\", \"DBFavorita\", \"DBYelp\"]\n",
    "join_orders = {\"DBRetailer\": \"LocationRoot\", \"DBFavorita\": \"StoresRoot\", \"DBYelp\": \"BusinessRoot\"}\n",
    "start_per = 10\n",
    "end_per = 100\n",
    "per_inc = 10\n",
    "\n",
    "txt_name = \"log.txt\"\n",
    "numeric_const_pattern = r\"##Orthogonality of R####([+-]?(\\d+(\\.\\d*)?|\\.\\d+)([eE][+-]?\\d+)?)\"\n",
    "rx = re.compile(numeric_const_pattern)\n",
    "\n",
    "df_measurement_exps = {}\n",
    "for exp_name in exp_names: \n",
    "    exp_path = exp_paths[exp_name]\n",
    "    accur_path = os.path.join(path_src, exp_path)\n",
    "\n",
    "    df_measurement = pd.DataFrame(columns=db_names)\n",
    "    for db_name in db_names:\n",
    "        join_order = join_orders[db_name]\n",
    "\n",
    "        for db_idx, percent in enumerate(range(start_per, end_per + 1, per_inc)): \n",
    "            db_name_per = \"{}{}\".format(db_name, percent)\n",
    "            path_txt = os.path.join(accur_path, db_name_per, join_order, \"log.txt\")\n",
    "            #relative_error = 1\n",
    "            with open(path_txt, 'r') as file_accur:\n",
    "                for line in file_accur:\n",
    "                    #print(line)\n",
    "                    match = rx.search(line)\n",
    "                    if match:\n",
    "                        relative_error = float(match.group(1))\n",
    "\n",
    "            df_measurement.at[percent, db_name] = relative_error\n",
    "            \n",
    "        #out_workbook.save(gather_times_path)\n",
    "            \n",
    "        \n",
    "        #print(df_measurement)\n",
    "        df_measurement_exps[exp_name] = df_measurement.transpose()\n",
    "        df_measurement.to_csv(exp_name + \".csv\", sep=\"\\t\")\n",
    "print(df_measurement_exps)\n",
    "\n",
    "\n",
    "\n"
   ]
  },
  {
   "cell_type": "code",
   "execution_count": 65,
   "metadata": {},
   "outputs": [
    {
     "name": "stdout",
     "output_type": "stream",
     "text": [
      "{'mkl':                     10           20           30           40           50   \\\n",
      "DBRetailer  2.97144e-13   3.3432e-13  3.83568e-13  4.42169e-13  4.39209e-13   \n",
      "DBFavorita   6.2141e-13   1.5467e-12  1.46725e-12  2.70339e-12  2.42678e-12   \n",
      "DBYelp      4.25477e-14  2.09549e-14  1.43891e-13  1.16351e-13  1.59096e-13   \n",
      "\n",
      "                    60           70           80           90           100  \n",
      "DBRetailer  4.77733e-13  4.85723e-13  6.23753e-13  8.88818e-13   5.4906e-13  \n",
      "DBFavorita  7.00115e-12  2.71555e-12  2.03773e-12  2.69783e-12  4.22868e-12  \n",
      "DBYelp       7.8202e-14  1.68611e-13  1.96813e-13  3.88546e-13  1.17023e-13  , 'figaro_lapack':                     10           20           30           40           50   \\\n",
      "DBRetailer  2.83811e-11  1.60434e-11   2.5559e-11  1.23884e-11  1.02499e-11   \n",
      "DBFavorita  8.03562e-13  4.89301e-13  6.75283e-13   6.7719e-13  7.42535e-13   \n",
      "DBYelp      6.69362e-08  3.15129e-08  6.63393e-08  3.66203e-08  6.09299e-08   \n",
      "\n",
      "                    60           70           80           90           100  \n",
      "DBRetailer  3.32672e-12  1.10897e-11  1.25279e-11  8.02864e-12  1.87089e-11  \n",
      "DBFavorita  6.96239e-13  5.95331e-13   9.9873e-13  6.32204e-13  6.44233e-13  \n",
      "DBYelp      7.06368e-09  5.45124e-08  3.12239e-08  1.85825e-08   1.1404e-07  }\n",
      "mkl\n"
     ]
    },
    {
     "ename": "KeyError",
     "evalue": "('mkl', 'figaro_lapack')",
     "output_type": "error",
     "traceback": [
      "\u001b[0;31m---------------------------------------------------------------------------\u001b[0m",
      "\u001b[0;31mKeyError\u001b[0m                                  Traceback (most recent call last)",
      "\u001b[0;32m/tmp/ipykernel_14248/4040336638.py\u001b[0m in \u001b[0;36m<module>\u001b[0;34m\u001b[0m\n\u001b[1;32m     17\u001b[0m     \u001b[0mprint\u001b[0m\u001b[0;34m(\u001b[0m\u001b[0mexp_name\u001b[0m\u001b[0;34m)\u001b[0m\u001b[0;34m\u001b[0m\u001b[0;34m\u001b[0m\u001b[0m\n\u001b[1;32m     18\u001b[0m     \u001b[0;32mfor\u001b[0m \u001b[0mfigaro_impl\u001b[0m \u001b[0;32min\u001b[0m \u001b[0mfigaro_impls\u001b[0m\u001b[0;34m:\u001b[0m\u001b[0;34m\u001b[0m\u001b[0;34m\u001b[0m\u001b[0m\n\u001b[0;32m---> 19\u001b[0;31m         \u001b[0mdf_measurement\u001b[0m \u001b[0;34m=\u001b[0m \u001b[0mdf_measurement_exps\u001b[0m\u001b[0;34m[\u001b[0m\u001b[0;34m(\u001b[0m\u001b[0mexp_name\u001b[0m\u001b[0;34m,\u001b[0m \u001b[0mfigaro_impl\u001b[0m\u001b[0;34m)\u001b[0m\u001b[0;34m]\u001b[0m\u001b[0;34m\u001b[0m\u001b[0;34m\u001b[0m\u001b[0m\n\u001b[0m\u001b[1;32m     20\u001b[0m         \u001b[0;32mfor\u001b[0m \u001b[0mdb_name\u001b[0m \u001b[0;32min\u001b[0m \u001b[0mdf_measurement\u001b[0m\u001b[0;34m:\u001b[0m\u001b[0;34m\u001b[0m\u001b[0;34m\u001b[0m\u001b[0m\n\u001b[1;32m     21\u001b[0m             \u001b[0mprint\u001b[0m\u001b[0;34m(\u001b[0m\u001b[0mdf_measurement\u001b[0m\u001b[0;34m[\u001b[0m\u001b[0mdb_name\u001b[0m\u001b[0;34m]\u001b[0m\u001b[0;34m)\u001b[0m\u001b[0;34m\u001b[0m\u001b[0;34m\u001b[0m\u001b[0m\n",
      "\u001b[0;31mKeyError\u001b[0m: ('mkl', 'figaro_lapack')"
     ]
    },
    {
     "data": {
      "image/png": "[encoded data removed]",
      "text/plain": [
       "<Figure size 1280x640 with 1 Axes>"
      ]
     },
     "metadata": {
      "needs_background": "light"
     },
     "output_type": "display_data"
    }
   ],
   "source": [
    "import matplotlib.pyplot as plt\n",
    "\n",
    "plt.figure(\"name\", figsize=(16, 8), dpi=80)\n",
    "plt.xlabel(\"Percentage of input matrix\")\n",
    "plt.ylabel(\"wall-clock-time[s]\")\n",
    "\n",
    "plt.title(\"Runtime performance comparison of Figaro and competitors on real-world datasets\")\n",
    "\n",
    "plt.yscale('log', base=10)\n",
    "plt.locator_params(axis='x', nbins=6)\n",
    "plt.locator_params(axis='x', nbins=10)\n",
    "db_marker =  {\"DBFavorita\": \"^\", \"DBYelp\": \"s\", \"DBRetailer\": \"x\"}\n",
    "exp_colour = {\"figaro_thin_diag\": \"r\", \"figaro_lapack\": \"g\", \"mkl\": \"b\"}\n",
    "\n",
    "print(df_measurement_exps)\n",
    "for exp_name in exp_names:\n",
    "    print(exp_name)\n",
    "    for figaro_impl in figaro_impls:\n",
    "        df_measurement = df_measurement_exps[(exp_name, figaro_impl)]\n",
    "        for db_name in df_measurement:\n",
    "            print(df_measurement[db_name])\n",
    "            plt.plot(df_measurement[db_name], \"-\" + exp_colour[figaro_impl] + db_marker[db_name], label=\"{} {} {}\".format(exp_name, figaro_impl, db_name))\n",
    "plt.legend(loc=\"upper left\")\n",
    "\n",
    "plt.show()"
   ]
  }
 ],
 "metadata": {
  "kernelspec": {
   "display_name": "Python 3",
   "language": "python",
   "name": "python3"
  },
  "language_info": {
   "codemirror_mode": {
    "name": "ipython",
    "version": 3
   },
   "file_extension": ".py",
   "mimetype": "text/x-python",
   "name": "python",
   "nbconvert_exporter": "python",
   "pygments_lexer": "ipython3",
   "version": "3.7.3 (default, Jan 22 2021, 20:04:44) \n[GCC 8.3.0]"
  },
  "orig_nbformat": 4,
  "vscode": {
   "interpreter": {
    "hash": "04f741ea30c2e01f6ca82569db187dc2748344ef3279f5f04be12041af38059b"
   }
  }
 },
 "nbformat": 4,
 "nbformat_minor": 2
}
